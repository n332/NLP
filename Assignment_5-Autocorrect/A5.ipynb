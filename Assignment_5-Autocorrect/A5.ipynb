{
 "cells": [
  {
   "attachments": {},
   "cell_type": "markdown",
   "metadata": {},
   "source": [
    "# part 0 : importing"
   ]
  },
  {
   "cell_type": "code",
   "execution_count": 139,
   "metadata": {},
   "outputs": [],
   "source": [
    "import re\n",
    "from collections import Counter\n",
    "import numpy as np\n",
    "import pandas as pd\n",
    "\n",
    "import w1_unittest"
   ]
  },
  {
   "cell_type": "code",
   "execution_count": 140,
   "metadata": {},
   "outputs": [],
   "source": [
    "words = []\n",
    "\n",
    "with open('./data/shakespeare.txt',\"r\") as file:\n",
    "    data = file.read()"
   ]
  },
  {
   "attachments": {},
   "cell_type": "markdown",
   "metadata": {},
   "source": [
    "# Part 1: Data Preprocessing"
   ]
  },
  {
   "cell_type": "code",
   "execution_count": 141,
   "metadata": {},
   "outputs": [],
   "source": [
    "def process_data(file_name):\n",
    "\n",
    "    words = []\n",
    "\n",
    "    with open(file_name,\"r\") as file:\n",
    "        data = file.read()\n",
    "\n",
    "    data_L = data.lower()\n",
    "\n",
    "    words = re.findall('\\w+',data_L) \n",
    "\n",
    "    return words"
   ]
  },
  {
   "cell_type": "code",
   "execution_count": 142,
   "metadata": {},
   "outputs": [],
   "source": [
    "word_l = process_data('./data/shakespeare.txt')\n",
    "vocab = set(word_l) "
   ]
  },
  {
   "cell_type": "code",
   "execution_count": 143,
   "metadata": {},
   "outputs": [],
   "source": [
    "def get_count(word_l):\n",
    "\n",
    "    word_count_dict = {}\n",
    "\n",
    "    word_count_dict = Counter(word_l)\n",
    "\n",
    "    return word_count_dict"
   ]
  },
  {
   "cell_type": "code",
   "execution_count": 144,
   "metadata": {},
   "outputs": [],
   "source": [
    "word_count_dict = get_count(word_l)"
   ]
  },
  {
   "cell_type": "code",
   "execution_count": 145,
   "metadata": {},
   "outputs": [],
   "source": [
    "def get_probs(word_count_dict):\n",
    "\n",
    "    probs = {}\n",
    "\n",
    "    M = sum(word_count_dict.values())\n",
    "\n",
    "    for key in word_count_dict.keys():\n",
    "        probs[key] = word_count_dict[key]/M\n",
    "\n",
    "    return probs"
   ]
  },
  {
   "cell_type": "code",
   "execution_count": 146,
   "metadata": {},
   "outputs": [],
   "source": [
    "probs = get_probs(word_count_dict)"
   ]
  },
  {
   "attachments": {},
   "cell_type": "markdown",
   "metadata": {},
   "source": [
    "# Part 2: String Manipulations"
   ]
  },
  {
   "cell_type": "code",
   "execution_count": 147,
   "metadata": {},
   "outputs": [],
   "source": [
    "def delete_letter(word):\n",
    "\n",
    "    delete_l = []\n",
    "    split_l = []\n",
    "\n",
    "    for i in range (len(word)):\n",
    "        split_l.append((word[:i],word[i:]))\n",
    "    \n",
    "    for L, R in split_l:\n",
    "        if R:\n",
    "            delete_l.append(L + R[1:])\n",
    "    \n",
    "    return delete_l\n"
   ]
  },
  {
   "cell_type": "code",
   "execution_count": 148,
   "metadata": {},
   "outputs": [],
   "source": [
    "def switch_letter(word):\n",
    "\n",
    "    switch_l = []\n",
    "    split_l = []\n",
    "\n",
    "    for i in range (len(word)+1):\n",
    "        split_l.append((word[:i],word[i:]))\n",
    "\n",
    "    for L,R in split_l:\n",
    "        if len(R) >=2:\n",
    "            switch_l.append(L + R[1] + R[0] + R[2:])\n",
    "    \n",
    "    return switch_l"
   ]
  },
  {
   "cell_type": "code",
   "execution_count": 149,
   "metadata": {},
   "outputs": [],
   "source": [
    "def replace_letter(word):\n",
    "\n",
    "    letters = 'abcdefghijklmnopqrstuvwxyz'\n",
    "    \n",
    "    replace_l = []\n",
    "    split_l = []\n",
    "\n",
    "    for i in range (len(word)+1):\n",
    "        split_l.append((word[:i],word[i:]))\n",
    "\n",
    "    for a, b in split_l:\n",
    "        if b:\n",
    "            for l in letters:\n",
    "                if len(b)>1:\n",
    "                    replace_l.append(a+l+b[1:])\n",
    "                else:\n",
    "                    replace_l.append(a+l+'')\n",
    "    \n",
    "    replace_set = set(replace_l)\n",
    "    replace_set.remove(word)\n",
    "\n",
    "    replace_l = sorted(list(replace_set))\n",
    "        \n",
    "    return replace_l"
   ]
  },
  {
   "cell_type": "code",
   "execution_count": 150,
   "metadata": {},
   "outputs": [],
   "source": [
    "def insert_letter(word, verbose=False):\n",
    "\n",
    "    letters = 'abcdefghijklmnopqrstuvwxyz'\n",
    "    insert_l = []\n",
    "    split_l = []\n",
    "\n",
    "    for i in range (len(word)+1):\n",
    "        split_l.append((word[:i],word[i:]))\n",
    "\n",
    "    for L, R in split_l :\n",
    "        for l in letters:\n",
    "            insert_l.append(L+l+R)\n",
    "            \n",
    "    if verbose: print(f\"Input word {word} \\nsplit_l = {split_l} \\ninsert_l = {insert_l}\")\n",
    "    \n",
    "    return insert_l\n"
   ]
  },
  {
   "attachments": {},
   "cell_type": "markdown",
   "metadata": {},
   "source": [
    "# Part 3: Combining the edits"
   ]
  },
  {
   "attachments": {},
   "cell_type": "markdown",
   "metadata": {},
   "source": [
    "## 3.1 Edit one letter"
   ]
  },
  {
   "cell_type": "code",
   "execution_count": 151,
   "metadata": {},
   "outputs": [],
   "source": [
    "def edit_one_letter(word, allow_switches = True):\n",
    "\n",
    "    edit_one_set = set()\n",
    "\n",
    "    edit_one_set.update(delete_letter(word))\n",
    "    if allow_switches:\n",
    "        edit_one_set.update(switch_letter(word))\n",
    "    edit_one_set.update(replace_letter(word))\n",
    "    edit_one_set.update(insert_letter(word))\n",
    "\n",
    "    return set(edit_one_set)"
   ]
  },
  {
   "attachments": {},
   "cell_type": "markdown",
   "metadata": {},
   "source": [
    "## 3.2. Edit two letters"
   ]
  },
  {
   "cell_type": "code",
   "execution_count": 152,
   "metadata": {},
   "outputs": [],
   "source": [
    "def edit_two_letters(word, allow_switches = True):\n",
    "\n",
    "    edit_two_set = set()\n",
    "    \n",
    "    edit_one = edit_one_letter(word,allow_switches=allow_switches)\n",
    "    for wordd in edit_one:\n",
    "        if wordd:\n",
    "            edit_two = edit_one_letter(wordd,allow_switches=allow_switches)\n",
    "            edit_two_set.update(edit_two)\n",
    "        \n",
    "    return set(edit_two_set)"
   ]
  },
  {
   "attachments": {},
   "cell_type": "markdown",
   "metadata": {},
   "source": [
    "## 3.3. suggest spelling suggestions"
   ]
  },
  {
   "cell_type": "code",
   "execution_count": 183,
   "metadata": {},
   "outputs": [],
   "source": [
    "def get_corrections(word, probs, vocab, n=2):\n",
    "\n",
    "    suggestions = []\n",
    "    n_best = []\n",
    "\n",
    "    suggestions = list((word in vocab and word) \n",
    "                    or edit_one_letter(word).intersection(vocab) \n",
    "                    or edit_two_letters(word).intersection(vocab))\n",
    "    \n",
    "    best_words = {}\n",
    "\n",
    "    for i, w in enumerate (suggestions):\n",
    "        if w in probs.keys():\n",
    "            best_words[w] = probs[w]\n",
    "        else:\n",
    "            best_words[w] = 0\n",
    "\n",
    "    best_words = sorted(best_words.items())\n",
    "\n",
    "    for i, key in enumerate (best_words):\n",
    "        if i < n :\n",
    "            n_best.append(tuple(key))\n",
    "    \n",
    "    return n_best\n"
   ]
  },
  {
   "attachments": {},
   "cell_type": "markdown",
   "metadata": {},
   "source": [
    "# Part 4: Minimum Edit distance"
   ]
  },
  {
   "cell_type": "code",
   "execution_count": 188,
   "metadata": {},
   "outputs": [],
   "source": [
    "def min_edit_distance(source, target, ins_cost = 1, del_cost = 1, rep_cost = 2):\n",
    "    \n",
    "    m = len(source)\n",
    "    n = len (target)\n",
    "    \n",
    "    D = np.zeros((m+1, n+1), dtype= int)\n",
    "\n",
    "    # fill the col 0\n",
    "    for row in range (1,m+1):\n",
    "        D[row,0] = D[row-1,0] + del_cost\n",
    "\n",
    "    # fill the row 0\n",
    "    for col in range(1, n+1):\n",
    "        D[0, col] = D[0, col-1] + ins_cost\n",
    "\n",
    "    # use the equation\n",
    "    for row in range (1,m+1):\n",
    "\n",
    "        for col in range(1,n+1):\n",
    "\n",
    "            r_cost = rep_cost\n",
    "\n",
    "            if source[row-1] == target[col-1]:\n",
    "                r_cost = 0\n",
    "            \n",
    "            D[row, col] = min ([D[row-1, col] + del_cost,\n",
    "                                D[row, col-1] + ins_cost,\n",
    "                                D[row-1, col-1] + r_cost])\n",
    "            \n",
    "    med = D[m,n]\n",
    "\n",
    "    return D, med\n"
   ]
  }
 ],
 "metadata": {
  "kernelspec": {
   "display_name": "Python 3",
   "language": "python",
   "name": "python3"
  },
  "language_info": {
   "codemirror_mode": {
    "name": "ipython",
    "version": 3
   },
   "file_extension": ".py",
   "mimetype": "text/x-python",
   "name": "python",
   "nbconvert_exporter": "python",
   "pygments_lexer": "ipython3",
   "version": "3.8.10 (tags/v3.8.10:3d8993a, May  3 2021, 11:48:03) [MSC v.1928 64 bit (AMD64)]"
  },
  "orig_nbformat": 4,
  "vscode": {
   "interpreter": {
    "hash": "c8870da4d7f4078c6c74dd4faac4c9b512f8b094e6c40f9750f01327815903b4"
   }
  }
 },
 "nbformat": 4,
 "nbformat_minor": 2
}
